{
 "cells": [
  {
   "cell_type": "code",
   "execution_count": 23,
   "metadata": {},
   "outputs": [
    {
     "name": "stdout",
     "output_type": "stream",
     "text": [
      "5 7\n",
      "1 2\n",
      "1 3\n",
      "1 4\n",
      "2 4\n",
      "3 4\n",
      "3 5\n",
      "4 5\n",
      "4 5\n",
      "-1\n",
      "3\n",
      "-1\n",
      "-1\n",
      "-1\n",
      "-1\n",
      "-1\n"
     ]
    }
   ],
   "source": [
    "# import sys\n",
    "# input = sys.stdin.readline\n",
    "INF = int(1e9)\n",
    "\n",
    "n, m = map(int,input().split())\n",
    "\n",
    "company_root = [[INF] * (n + 1) for _ in range(n+1)]\n",
    "\n",
    "for a in range(1, n+1):\n",
    "    for b in range(1,n + 1):\n",
    "        if a == b:\n",
    "            company_root[a][b] = 0\n",
    "                \n",
    "for i in range(m+1):\n",
    "    if  i < m:\n",
    "        a,b = map(int, input().split())\n",
    "        company_root[a][b] = 1\n",
    "        company_root[b][a] = 1\n",
    "    else:\n",
    "        x,k = map(int, input().split())\n",
    "\n",
    "keys = [i for i in range(1,n+1)]\n",
    "cnt = dict.fromkeys(keys,0)\n",
    "\n",
    "for i in range(1,n + 1):\n",
    "    if company_root[1][i] == 1:\n",
    "        for a in range(2,n + 1):\n",
    "            if i == a:\n",
    "                if company_root[a][k] == 1 or company_root[a][x] == 1:\n",
    "                    cnt[a] +=1\n",
    "                    for b in range(2,n + 1):\n",
    "                        if a == b:\n",
    "                            if company_root[b][k] == 1:\n",
    "                                cnt[b] +=1\n",
    "                                for c in range(2,n + 1):\n",
    "                                    if b == c:\n",
    "                                        if company_root[c][x] == 1:\n",
    "                                            cnt[c] +=1\n",
    "                                            print(cnt.get(c))\n",
    "    \n",
    "                                    \n",
    "        \n"
   ]
  },
  {
   "cell_type": "code",
   "execution_count": 24,
   "metadata": {},
   "outputs": [
    {
     "name": "stdout",
     "output_type": "stream",
     "text": [
      "5 7\n",
      "1 2\n",
      "1 3\n",
      "1 4\n",
      "2 4\n",
      "3 4\n",
      "3 5\n",
      "4 5\n",
      "4 5\n",
      "3\n"
     ]
    }
   ],
   "source": [
    "INF = int(1e9)\n",
    "\n",
    "n, m = map(int,input().split())\n",
    "\n",
    "company_root = [[INF] * (n + 1) for _ in range(n+1)]\n",
    "\n",
    "for a in range(1, n+1):\n",
    "    for b in range(1,n + 1):\n",
    "        if a == b:\n",
    "            company_root[a][b] = 0\n",
    "for i in range(m+1):\n",
    "    if  i < m:\n",
    "        a,b = map(int, input().split())\n",
    "        company_root[a][b] = 1\n",
    "        company_root[b][a] = 1\n",
    "    else:\n",
    "        x,k = map(int, input().split())   \n",
    "for k in range(1, n+1):\n",
    "    for a in range(1, n+1):\n",
    "        for b in range(1, n+1):\n",
    "            company_root[a][b] = min( company_root[a][b],  company_root[a][k] +  company_root[k][b])\n",
    "distance = company_root[1][k] + company_root[k][x]\n",
    "\n",
    "if distance >= INF:\n",
    "    print(\"-1\")\n",
    "else:\n",
    "    print(distance)"
   ]
  },
  {
   "cell_type": "code",
   "execution_count": 2,
   "metadata": {},
   "outputs": [
    {
     "name": "stdout",
     "output_type": "stream",
     "text": [
      "3 2 1\n",
      "1 2 4\n",
      "1 3 2\n",
      "2 4\n"
     ]
    }
   ],
   "source": [
    "import heapq\n",
    "INF = int(1e9)\n",
    "\n",
    "\n",
    "n,m, c = map(int, input().split())\n",
    "\n",
    "\n",
    "meassge_list = [ [] for _ in range(n+1)]\n",
    "distance= [INF] * (n+1)\n",
    "\n",
    "        \n",
    "for i in range(m):\n",
    "    x,y,z = map(int, input().split())\n",
    "    meassge_list[x].append((y,z))\n",
    "    \n",
    "def dij(c):\n",
    "    q = []\n",
    "    heapq.heappush(q, (0,c))\n",
    "    distance[c] = 0\n",
    "    while q:\n",
    "        dist, now = heapq.heappop(q)\n",
    "        if distance[now] < dist:\n",
    "            continue\n",
    "        for i in meassge_list[now]:\n",
    "            cost = dist + i[1]\n",
    "            if cost < distance[i[0]]:\n",
    "                distance[i[0]] = cost\n",
    "                heapq.heappush(q,(cost,i[0]))\n",
    "                \n",
    "dij(c)\n",
    "\n",
    "count = 0\n",
    "max_distance = 0\n",
    "for d in distance:\n",
    "    if d != INF:\n",
    "        count +=1\n",
    "        max_distance = max(max_distance,d)\n",
    "        \n",
    "print(count - 1, max_distance)"
   ]
  }
 ],
 "metadata": {
  "kernelspec": {
   "display_name": "Python 3",
   "language": "python",
   "name": "python3"
  },
  "language_info": {
   "codemirror_mode": {
    "name": "ipython",
    "version": 3
   },
   "file_extension": ".py",
   "mimetype": "text/x-python",
   "name": "python",
   "nbconvert_exporter": "python",
   "pygments_lexer": "ipython3",
   "version": "3.6.5"
  }
 },
 "nbformat": 4,
 "nbformat_minor": 2
}
