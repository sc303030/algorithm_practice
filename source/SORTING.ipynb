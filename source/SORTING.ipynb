{
 "cells": [
  {
   "cell_type": "code",
   "execution_count": null,
   "metadata": {
    "colab": {
     "base_uri": "https://localhost:8080/",
     "height": 107
    },
    "id": "z1Sz0g0qutdY",
    "outputId": "a9455ba4-2f5e-4ac9-bde9-c6c9b0d5a300"
   },
   "outputs": [
    {
     "name": "stdout",
     "output_type": "stream",
     "text": [
      "3 \n",
      "15\n",
      "27\n",
      "12\n",
      "27 15 12 "
     ]
    }
   ],
   "source": [
    "# 내가 작성한 코드\n",
    "n = int(input())\n",
    "\n",
    "num_list = []\n",
    "\n",
    "for i in range(n):\n",
    "  num_list.append(int(input()))\n",
    "\n",
    "num_list.sort(reverse=True)\n",
    "\n",
    "for i in num_list:\n",
    "  print(i, end=' ')"
   ]
  },
  {
   "cell_type": "code",
   "execution_count": null,
   "metadata": {
    "colab": {
     "base_uri": "https://localhost:8080/",
     "height": 107
    },
    "id": "XWwDJpfgvmMK",
    "outputId": "f1e7707c-c7ca-4c19-edd1-b5d132290b94"
   },
   "outputs": [
    {
     "name": "stdout",
     "output_type": "stream",
     "text": [
      "3\n",
      "15\n",
      "27\n",
      "12\n",
      "27 15 12 "
     ]
    }
   ],
   "source": [
    "# 다른 답안\n",
    "n = int(input())\n",
    "\n",
    "array =[]\n",
    "for i in range(n):\n",
    "  array.append(int(input()))\n",
    "\n",
    "array = sorted(array, reverse=True)\n",
    "\n",
    "for i in array:\n",
    "  print(i, end=' ')"
   ]
  },
  {
   "cell_type": "code",
   "execution_count": null,
   "metadata": {
    "colab": {
     "base_uri": "https://localhost:8080/",
     "height": 89
    },
    "id": "lDk3WGbyEdOc",
    "outputId": "5373bfaf-0a69-45d7-8160-ce61db6ae775"
   },
   "outputs": [
    {
     "name": "stdout",
     "output_type": "stream",
     "text": [
      "2\n",
      "홍길동 95\n",
      "이순신 77\n",
      "이순신 홍길동 "
     ]
    }
   ],
   "source": [
    "# 내가 작성한 답안\n",
    "n = int(input())\n",
    "\n",
    "name_list= []\n",
    "score_list = []\n",
    "\n",
    "for i in range(n):\n",
    "  name, score = input().split()\n",
    "  name_list.append(name)\n",
    "  score_list.append(int(score))\n",
    "\n",
    "sort_list = sorted(score_list)\n",
    "\n",
    "for i in range(len(sort_list)):\n",
    "  for j in range(len(score_list)):\n",
    "    if score_list[j] == sort_list[i]:\n",
    "      print(name_list[j], end=' ')"
   ]
  },
  {
   "cell_type": "code",
   "execution_count": null,
   "metadata": {
    "colab": {
     "base_uri": "https://localhost:8080/",
     "height": 89
    },
    "id": "tdQi2qvaHPuy",
    "outputId": "05079836-1610-4faa-cf92-9423680b8da9"
   },
   "outputs": [
    {
     "name": "stdout",
     "output_type": "stream",
     "text": [
      "2\n",
      "홍길동 95\n",
      "이순신 77\n",
      "이순신 홍길동 "
     ]
    }
   ],
   "source": [
    "#다른 답안\n",
    "n = int(input())\n",
    "\n",
    "array = []\n",
    "for i in range(n):\n",
    "  input_data = input().split()\n",
    "  array.append((input_data[0], int(input_data[1])))\n",
    "\n",
    "array = sorted(array, key=lambda student : student[1])\n",
    "\n",
    "for student in array:\n",
    "  print(student[0], end=' ')"
   ]
  },
  {
   "cell_type": "code",
   "execution_count": 14,
   "metadata": {},
   "outputs": [
    {
     "name": "stdout",
     "output_type": "stream",
     "text": [
      "5 3\n",
      "1 2 5 4 3\n",
      "5 5 6 6 5\n",
      "26\n"
     ]
    }
   ],
   "source": [
    "# 내가 작성한 답안\n",
    "n, k = map(int,input().split())\n",
    "a_list = sorted(list(map(int, input().split())))\n",
    "b_list = sorted(list(map(int, input().split())),reverse=True)\n",
    "\n",
    "for i in range(k):\n",
    "    a_list[i] , b_list[i] = b_list[i], a_list[i]\n",
    "\n",
    "result = 0\n",
    "for i in a_list:\n",
    "    result += i\n",
    "    \n",
    "print(result)"
   ]
  },
  {
   "cell_type": "code",
   "execution_count": null,
   "metadata": {},
   "outputs": [],
   "source": [
    "# 다른 답안\n",
    "n, k = map(int,input().split())\n",
    "a = list(map(int, input().split()))\n",
    "b = list(map(int, input().split()))\n",
    "\n",
    "a.sort()\n",
    "b.sort(reverse=True)\n",
    "\n",
    "for i in range(k):\n",
    "    if a[i] < b[i]:\n",
    "        a[i], b[i] = b[i], a[i]\n",
    "    else:\n",
    "        break\n",
    "print(sum(a))"
   ]
  },
  {
   "cell_type": "code",
   "execution_count": null,
   "metadata": {},
   "outputs": [],
   "source": []
  },
  {
   "cell_type": "code",
   "execution_count": null,
   "metadata": {},
   "outputs": [],
   "source": []
  }
 ],
 "metadata": {
  "colab": {
   "collapsed_sections": [],
   "name": "SORTING.ipynb",
   "provenance": []
  },
  "kernelspec": {
   "display_name": "Python 3",
   "language": "python",
   "name": "python3"
  },
  "language_info": {
   "codemirror_mode": {
    "name": "ipython",
    "version": 3
   },
   "file_extension": ".py",
   "mimetype": "text/x-python",
   "name": "python",
   "nbconvert_exporter": "python",
   "pygments_lexer": "ipython3",
   "version": "3.6.5"
  }
 },
 "nbformat": 4,
 "nbformat_minor": 1
}
